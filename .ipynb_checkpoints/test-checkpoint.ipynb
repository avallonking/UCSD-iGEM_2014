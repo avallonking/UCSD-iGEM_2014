{
 "metadata": {
  "name": "",
  "signature": "sha256:53c0224bf476a7bce5991789f08d538e572ba32dbce0b03ff62913054346e3d7"
 },
 "nbformat": 3,
 "nbformat_minor": 0,
 "worksheets": [
  {
   "cells": [
    {
     "cell_type": "code",
     "collapsed": false,
     "input": [
      "list = \"0 1 2 3 4 5 0 1 2 3 4 5\"\n",
      "split = list.split()"
     ],
     "language": "python",
     "metadata": {},
     "outputs": [],
     "prompt_number": 3
    },
    {
     "cell_type": "code",
     "collapsed": false,
     "input": [
      "first = array[0:array.index(3)]\n",
      "print \"before X\" before\n",
      "second = array[array.index(3) + 1:]\n",
      "print second"
     ],
     "language": "python",
     "metadata": {},
     "outputs": [
      {
       "output_type": "stream",
       "stream": "stdout",
       "text": [
        "[0, 1, 2]\n",
        "[4, 5]\n"
       ]
      }
     ],
     "prompt_number": 14
    }
   ],
   "metadata": {}
  }
 ]
}