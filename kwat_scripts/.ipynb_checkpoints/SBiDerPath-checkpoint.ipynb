{
 "metadata": {
  "name": "",
<<<<<<< HEAD
  "signature": "sha256:dabd6931b8b802c8c39f9ec75a484081e749f0a6c576edea3993ebf52d2dfd28"
=======
  "signature": "sha256:1f96dd083602e9139688d42c5352fa61a1728c5faa998ff861505fe3736cdf5a"
>>>>>>> e0a2b553c068fb5e262075272829382369c61526
 },
 "nbformat": 3,
 "nbformat_minor": 0,
 "worksheets": [
  {
   "cells": [
    {
     "cell_type": "code",
     "collapsed": false,
     "input": [
      "import sql_pytools as sqlpy\n",
      "import sqlite3\n",
      "import pandas as pd"
     ],
     "language": "python",
     "metadata": {},
     "outputs": [],
     "prompt_number": 1422
    },
    {
     "cell_type": "code",
     "collapsed": false,
     "input": [
      "def open(database):\n",
      "    global conn \n",
      "    conn = sqlite3.connect(database)\n",
      "    conn.text_factory = str\n",
      "    global sql \n",
      "    sql = conn.cursor()"
     ],
     "language": "python",
     "metadata": {},
     "outputs": [],
     "prompt_number": 1423
    },
    {
     "cell_type": "code",
     "collapsed": false,
     "input": [
      "def close():\n",
      "    conn.commit()\n",
      "    sql.close()"
     ],
     "language": "python",
     "metadata": {},
     "outputs": [],
     "prompt_number": 1424
    },
    {
     "cell_type": "code",
     "collapsed": false,
     "input": [
      "def make_db():\n",
      "    print \"CAUTION: you will override the data! \\\n",
      "           Do you really want to proceed? Y or N\"\n",
      "    user_caution = raw_input()\n",
      "    if user_caution == 'Y':\n",
      "        info_names = [\"plasmid\",\n",
      "                      \"operon\",\n",
      "                      \"part\",\n",
      "                      \"interactor\",\n",
      "                      \"input\",\n",
      "                      \"output\",\n",
      "                      \"opr\",\n",
      "                      \"optr\",\n",
      "                      \"oitr\",\n",
      "                      \"ootr\",\n",
      "                      \"login\"]\n",
      "            \n",
      "        plasmid = '''CREATE TABLE plasmid (id VARCHAR(50), name VARCHAR(50), \n",
      "            miriam_id VARCHAR(50), title VARCHAR(50), authors VARCHAR(50), \n",
      "            journal VARCHAR(50), year VARCHAR(50));'''\n",
      "        operon = '''CREATE TABLE operon (id VARCHAR(50), name VARCHAR(50), \n",
      "            sbol VARCHAR(50));'''\n",
      "        part = 'CREATE TABLE part (id VARCHAR(50), name VARCHAR(50));'\n",
      "        interactors = '''CREATE TABLE interactor (id VARCHAR(50),name VARCHAR(50), \n",
      "            type VARCHAR(50));'''\n",
      "        inputt = '''CREATE TABLE input (id VARCHAR(50), interactor_id VARCHAR(50),\n",
      "            repressor bool);'''\n",
      "        output = '''CREATE TABLE output (id VARCHAR(50), \n",
      "            interactor_id VARCHAR(50));'''    \n",
      "        opr = '''CREATE TABLE opr (id VARCHAR(50), operon_id VARCHAR(50), \n",
      "            plasmid_id VARCHAR(50), direction VARCHAR(50), Main NUM(10));'''\n",
      "        optr = '''CREATE TABLE optr (id VARCHAR(50), operon_id VARCHAR(50), \n",
      "            part_id VARCHAR(50), position NUM(10));'''\n",
      "        oitr = '''CREATE TABLE oitr (id VARCHAR(50), operon_id VARCHAR(50), \n",
      "            interactor_id VARCHAR(50));'''\n",
      "        ootr = '''CREATE TABLE ootr (id VARCHAR(50), operon_id VARCHAR(50), \n",
      "            interactor_id VARCHAR(50));'''\n",
      "        login = '''CREATE TABLE login (id VARCHAR(50), email VARCHAR(50), \n",
      "            password VARCHAR(50));'''\n",
      "        \n",
      "        table_list =[plasmid, operon, part, interactors, opr, optr, oitr, ootr, inputt, output]\n",
      "        for table in table_list:\n",
      "            custom(table)\n",
      "    else:\n",
      "        print \"You either typed 'N' or did not use the specified characters\""
     ],
     "language": "python",
     "metadata": {},
     "outputs": [],
     "prompt_number": 1425
    },
    {
     "cell_type": "code",
     "collapsed": false,
     "input": [
      "def insert(table_name, cols, new_row):\n",
      "    command = sqlpy.sql_insert(table_name, cols, new_row)\n",
      "    print \"\\n\" * 3\n",
      "    print command\n",
      "    sql.execute(command)"
     ],
     "language": "python",
     "metadata": {},
     "outputs": [],
     "prompt_number": 1426
    },
    {
     "cell_type": "code",
     "collapsed": false,
     "input": [
      "def select(table_name, col_names = [\"ID\"], w_col = None, w_opt = None,\n",
      "    w_var = None, w_bool = None, group = False, h_col = None, h_bool = None, \n",
      "    h_value = None):\n",
      "    command = sqlpy.sql_select(table_name,col_names, w_col, w_opt, w_var,\n",
      "        w_bool, group, h_col, h_bool, h_value)\n",
      "    sql.execute(command)\n",
      "    return sql.fetchall()"
     ],
     "language": "python",
     "metadata": {},
     "outputs": [],
     "prompt_number": 1427
    },
    {
     "cell_type": "code",
     "collapsed": false,
     "input": [
      "def sql_custom(command):\n",
      "    return sql.execute(command)"
     ],
     "language": "python",
     "metadata": {},
     "outputs": [],
     "prompt_number": 1428
    },
    {
     "cell_type": "code",
     "collapsed": false,
     "input": [
      "def print_table(table_name):\n",
      "    cur = custom(\"SELECT * FROM \" + table_name)\n",
      "    table_list = cur.fetchall()\n",
      "    for row in table_list:\n",
      "        print row"
     ],
     "language": "python",
     "metadata": {},
     "outputs": [],
     "prompt_number": 1429
    },
    {
     "cell_type": "code",
     "collapsed": false,
     "input": [
      "def single_trans_to_bool(trans_ID):\n",
      "    trans_list = sql.execute('''SELECT Interactor_ID, NOT/\n",
      "        FROM input_trans WHERE Input_Transition_ID = ''' + trans_ID)\n",
      "    return bool_trans(trans_list)"
     ],
     "language": "python",
     "metadata": {},
     "outputs": [],
     "prompt_number": 1430
    },
    {
     "cell_type": "code",
     "collapsed": false,
     "input": [
      "def single_operon_to_bool(operon_ID):\n",
      "    operon_list = sql.execute('''SELECT Input_Transition_ID from oitr \n",
      "        where Operon_ID = ''' + operon_ID)\n",
      "    operon_list = unlist_values(operon_list)\n",
      "    operon_list = [single_trans_to_bool(x) for x in operon_list]\n",
      "    if len(operon_list) == 1:\n",
      "        return operon_list\n",
      "    else:\n",
      "        return ' OR '.join(operon_list)    "
     ],
     "language": "python",
     "metadata": {},
     "outputs": [],
     "prompt_number": 1431
    },
    {
     "cell_type": "code",
     "collapsed": false,
     "input": [
      "def to_trans_logic(): \n",
      "    trans_list = sql.execute(\"SELECT Interactor_ID, Input_Transition_ID, NOT\")\n",
      "    trans_dict = {}\n",
      "    for trans in trans_list:\n",
      "        trans_ID = trans[1]\n",
      "        if trans_ID in trans_dict:\n",
      "            trans_dict[trans_ID].append([trans[0]] + [trans[2]])\n",
      "        else:\n",
      "            trans_dict[trans_ID] = [trans[0]] + [trans[2]]\n",
      "    trans_bool_dict = {}\n",
      "    for trans_ID, interactors_list in trans_dict:\n",
      "            if trans_ID in trans_bool_dict:\n",
      "                trans_bool_dict[trans_ID].append(bool_trans(interactors_list))\n",
      "            else:\n",
      "                trans_bool_dict[trans_ID] = [bool_trans(interactors_list)]\n",
      "    return interactors_list"
     ],
     "language": "python",
     "metadata": {},
     "outputs": [],
     "prompt_number": 1432
    },
    {
     "cell_type": "code",
     "collapsed": false,
     "input": [
      "def to_bool_operon():\n",
      "    operon_trans_list = sql.execute('grab all of the operons and transitions')\n",
      "    for rlts in operon_trans_list:\n",
      "        operon_ID = rlts[0] \n",
      "        if operon_ID in operon_trans_dict:\n",
      "            operon_trans_dict[operon_ID].append(rlts[1])\n",
      "        else:\n",
      "            operon_trans_dict[operon_ID] = [rlts[1]]\n",
      "    trans_logic_dict = to_trans_logic()\n",
      "    operon_logic_dict = []\n",
      "    for operon_ID, trans_bools in operon_trans_dict.values():\n",
      "        if len(trans_bools) == 1:\n",
      "            operon_logic_dict[operon_ID] = trans_logic_dict[operon_ID]\n",
      "        else:\n",
      "            bool_string = \"\"\n",
      "            for logic in trans_bools:\n",
      "                bool_string += logic + \" OR \"\n",
      "            bool_string = bool_string[0:-4:] #remove that annoying last \" OR \"\n",
      "        operon_logic_dict[operon_ID] = bool_string\n",
      "    return operon_logic_dict"
     ],
     "language": "python",
     "metadata": {},
     "outputs": [],
     "prompt_number": 1433
    },
    {
     "cell_type": "code",
     "collapsed": false,
     "input": [
      "def bool_trans(interactor):\n",
      "    #single input, buffer transitions \n",
      "    if len(interactor) == 1 and interactor[0][1] != False:\n",
      "        return \"IF\", interactor[0][0] \n",
      "    #single input, not transition\n",
      "    elif len(interactor) == 1 and interactor[0][1] == True:\n",
      "        return \"NOT\", interactor[0][0] \n",
      "    #multiple input, and transition\n",
      "    elif len(interactor) > 1:\n",
      "        bool_string = \"\"\n",
      "        i = 0\n",
      "        for interactor in interactor.values():\n",
      "            if i == 0:\n",
      "                if interactor[0][1] == False:\n",
      "                    bool_string += str(interactor[0][0])\n",
      "                else:\n",
      "                    bool_string += \"NOT \" + str(interactor[0][0])\n",
      "            else: \n",
      "                if i == 0:\n",
      "                    if interactor[0][1] == False:\n",
      "                        bool_string += \" AND \" + str(interactor[0][0])\n",
      "                    else:\n",
      "                        bool_string += \" AND NOT \" + str(interactor[0][0])\n",
      "        return bool_string"
     ],
     "language": "python",
     "metadata": {},
     "outputs": [],
     "prompt_number": 1434
    },
    {
     "cell_type": "code",
     "collapsed": false,
     "input": [
      "def pull_columns(col_nums):\n",
      "    columns= []\n",
      "    for nums in col_nums:\n",
      "        try:\n",
      "            columns.append(col_nums[nums])\n",
      "        except:\n",
      "            raise Exception(\"Table is \" + len(columns_list) + ''' long. Tried to \n",
      "                access non-existant index ''' + nums)\n",
      "    return columns "
     ],
     "language": "python",
     "metadata": {},
     "outputs": [],
     "prompt_number": 1435
    },
    {
     "cell_type": "code",
     "collapsed": false,
     "input": [
      "def unlist_values(to_list):\n",
      "    return [''.join(x) for x in to_list]"
     ],
     "language": "python",
     "metadata": {},
     "outputs": [],
     "prompt_number": 1436
    },
    {
     "cell_type": "code",
     "collapsed": false,
     "input": [
      "def to_json_node():\n",
      "    nodes_table = [\"interactor\", \"input\", \"output\", \"operon\"]\n",
      "    edges_table = [\"itr\",\"\",\"\"]\n",
      "    \n",
      "    interactor_list = []\n",
      "    sql.execute(\"SELECT id, name from interactor\" )\n",
      "    interactor_list.extend(sql.fetchall())\n",
      "    \n",
      "    input_list = []\n",
      "    sql.execute(\"SELECT id, name from input\" )\n",
      "    input_list.extend(sql.fetchall())\n",
      "    \n",
      "    output_list = []\n",
      "    sql.execute(\"SELECT id, name from output\" )\n",
      "    output_list.extend(sql.fetchall())\n",
      "    \n",
      "    operon_list = []\n",
      "    sql.execute(\"SELECT id, name from operon\" )\n",
      "    operon_list.extend(sql.fetchall())\n",
      "    \n",
      "    nodes_list = [interactor_list, input_list, output_list, operon_list]\n",
      "    for ls in nodes_list:\n",
      "        for node in interactor_list:\n",
      "                json_str += tojson(node)"
     ],
     "language": "python",
     "metadata": {},
     "outputs": [],
     "prompt_number": 1437
    },
    {
     "cell_type": "code",
     "collapsed": false,
     "input": [
      "def to_network():\n",
      "    input_trans_dict = {}\n",
      "    inputt = sql.execute(\"SELECT id, interactor_id from input\")\n",
      "    cur = inputt.fetchone()\n",
      "    count = 1\n",
      "    while isinstance(cur, tuple) is True:\n",
      "        key = cur[0]\n",
      "        if key in input_trans_dict:\n",
      "            input_trans_dict[key].add(cur[1])\n",
      "        else:\n",
      "            input_trans_dict[key] = set([cur[1]])\n",
      "        count += 1\n",
      "        cur = inputt.fetchone()\n",
      "    output_trans_dict = {}\n",
      "    output = sql.execute(\"SELECT id, interactor_id from output\")\n",
      "    cur = output.fetchone()\n",
      "    while isinstance(cur, tuple) is True:\n",
      "        key = cur[0]\n",
      "        if key in output_trans_dict:\n",
      "            output_trans_dict[key].add(cur[1])\n",
      "        else:\n",
      "            output_trans_dict[key] = set([cur[1]])\n",
      "        cur = output.fetchone()\n",
      "    \n",
      "    return input_trans_dict, output_trans_dict"
     ],
     "language": "python",
     "metadata": {},
     "outputs": [],
     "prompt_number": 1438
    },
    {
     "cell_type": "code",
     "collapsed": false,
     "input": [
      "def to_pigeon():  \n",
      "    pass"
     ],
<<<<<<< HEAD
     "language": "python",
     "metadata": {},
     "outputs": [],
     "prompt_number": 1439
=======
     "prompt_number": 74
>>>>>>> e0a2b553c068fb5e262075272829382369c61526
    },
    {
     "cell_type": "code",
     "collapsed": false,
     "input": [
      "'''finds the last index of an element in a sequence'''\n",
      "def rindex(sequence, element):\n",
      "    for i, e in enumerate(reversed(sequence)):\n",
      "        if element == e:\n",
      "            return len(sequence) - 1 - i\n",
      "    else:\n",
      "            raise ValueError(\"rindex(sequence, element): element not in the sequence\")"
     ],
     "language": "python",
     "metadata": {},
     "outputs": [],
<<<<<<< HEAD
     "prompt_number": 1440
=======
     "prompt_number": 75
>>>>>>> e0a2b553c068fb5e262075272829382369c61526
    },
    {
     "cell_type": "code",
     "collapsed": false,
     "input": [
      "'''removes the outer most parentheses \"()\" and returns the token afte the \")\"'''\n",
      "def parentheses(sequence):\n",
      "    print \"parentheses(sequence): sequence: \", sequence\n",
      "    first_opener_idx_assigned = False\n",
      "    started = False\n",
      "    counter = 0\n",
      "    for idx, e in enumerate(sequence):\n",
      "        if e == '(':\n",
      "            if started == False:\n",
      "                started = True\n",
      "            counter = counter + 1\n",
      "        elif e == ')':\n",
      "            if started == False:\n",
      "                raise ValueError(\"parentheses(sequence): ')' without '('\")\n",
      "            counter = counter - 1\n",
      "        if started == True:\n",
      "            if first_opener_idx_assigned == False:\n",
      "                first_opener_idx = idx\n",
      "                first_opener_idx_assigned = True\n",
      "            if counter == 0:\n",
      "                sequence.pop(idx)\n",
      "                if idx < len(sequence):\n",
      "                    element_after_last_closer = sequence[idx]\n",
      "                else:\n",
      "                    element_after_last_closer = None\n",
      "                sequence.pop(first_opener_idx)\n",
      "                return element_after_last_closer\n",
      "    print \"parentheses(sequence): no parentehses in the sequence\"\n",
      "    return None"
     ],
     "language": "python",
     "metadata": {},
     "outputs": [],
<<<<<<< HEAD
     "prompt_number": 1441
=======
     "prompt_number": 76
>>>>>>> e0a2b553c068fb5e262075272829382369c61526
    },
    {
     "cell_type": "code",
     "collapsed": false,
     "input": [
      "'''splits a sequence by a given element and stores the elements\n",
      "before and after the element into a dictionary'''\n",
      "def split_by(sequence, element):\n",
      "    element_index = sequence.index(element)\n",
      "    sequence_before_element = sequence[:element_index:1]\n",
      "    sequence_after_element = sequence[element_index + 1::1]\n",
      "    return {0: sequence_before_element, 1: sequence_after_element}"
     ],
     "language": "python",
     "metadata": {},
     "outputs": [],
<<<<<<< HEAD
     "prompt_number": 1442
=======
     "prompt_number": 77
>>>>>>> e0a2b553c068fb5e262075272829382369c61526
    },
    {
     "cell_type": "code",
     "collapsed": false,
     "input": [
      "'''parseInputLogic'''\n",
      "def parseInputLogic(tokens):\n",
      "    #print \"parseInputLogic(tokens): tokens: \", tokens\n",
      "    user_input_token= user_input.split()\n",
      "    return g0(user_input_token)"
     ],
     "language": "python",
     "metadata": {},
     "outputs": [],
     "prompt_number": 1443
    },
    {
     "cell_type": "code",
     "collapsed": false,
     "input": [
      "'''g0:= g1 > g1'''\n",
      "def g0(tokens):\n",
      "    #print \"g0(tokens): tokens: \", tokens\n",
      "    if '>' not in tokens:\n",
      "        raise ValueError(\"g(tokens): no output\")\n",
      "    else:\n",
      "        input_output_dictionary = split_by(tokens, '>')\n",
      "    return gOutput(g1(input_output_dictionary[0]), g1(input_output_dictionary[1]))"
     ],
     "language": "python",
     "metadata": {},
     "outputs": [],
     "prompt_number": 1444
    },
    {
     "cell_type": "code",
     "collapsed": false,
     "input": [
      "'''g1:= g2 or g1 | g2 and g1 | g2'''\n",
      "def g1(tokens):        \n",
      "    #print \"g1(tokens): tokens: \", tokens\n",
      "    if len(tokens) > 1 and tokens[1] == 'or':\n",
      "        \"g2 or g1\"\n",
      "        #print \"UISA.g0(tokens): detected 'or'\"\n",
      "        \"splits tokens by the first occuring 'or' and stores the tokens before and after the 'or' in a dictionary\"\n",
      "        or_dictionary = split_by(tokens, 'or')\n",
      "        return gOr(g2(or_dictionary.get(0)), g1(or_dictionary.get(1)))\n",
      "    elif len(tokens) > 1 and tokens[1] == 'and':\n",
      "        \"g2 and g1\"\n",
      "        #print \"UISA.g1(tokens): detected 'and'\"\n",
      "        \"splits tokens by the first occuring 'and' and stores the tokens before and after the 'and' in a dictionary\"\n",
      "        and_dictionary = split_by(tokens, 'and')\n",
      "        return gAnd(g2(and_dictionary.get(0)), g1(and_dictionary.get(1)))            \n",
      "    else:\n",
      "        \"g2\"\n",
      "        \"delegates to g2\"\n",
      "        return g2(tokens)"
     ],
     "language": "python",
     "metadata": {},
     "outputs": [],
     "prompt_number": 1445
    },
    {
     "cell_type": "code",
     "collapsed": false,
     "input": [
      "'''g2:= (g1) or g1 | (g1) and g1 | (g1) | interactor''' \n",
      "def g2(tokens):\n",
      "    #print \"g2(tokens): tokens: \", tokens\n",
      "    if len(tokens) <= 0:\n",
      "        raise ValueError(\"Invalid Syntax\")\n",
      "    elif tokens[0] == \"(\":\n",
      "        \"(g1) or g1 | (g1) and g1| (g1)\"\n",
      "        #print \"UISA.g2(tokens): detected '('\"\n",
      "        \"token after the last occuring ')'\"\n",
      "        token_after_last_closer = parentheses(tokens)\n",
      "        if token_after_last_closer == 'or':    \n",
      "            \"splits tokens by the first occuring 'or' and stores the tokens before and after the 'or' in a dictionary\"\n",
      "            or_dictionary = split_by(tokens, 'or')\n",
      "            return gOr(g1(or_dictionary.get(0)), g1(or_dictionary.get(1)))\n",
      "        elif token_after_last_closer == 'and':\n",
      "            \"splits tokens by the first occuring 'and' and stores the tokens before and after the 'and' in a dictionary\"\n",
      "            and_dictionary = split_by(tokens, 'and')\n",
      "            return gAnd(g1(and_dictionary.get(0)), g1(and_dictionary.get(1)))\n",
      "        else:\n",
      "            \"delegates to interactor\"\n",
      "            return g1(tokens)\n",
      "    else:\n",
      "        \"interactor\"\n",
      "        \"delegates to interactor\"\n",
      "        return interactor(tokens)"
     ],
     "language": "python",
     "metadata": {},
     "outputs": [],
     "prompt_number": 1446
    },
    {
     "cell_type": "code",
     "collapsed": false,
     "input": [
      "'''interactor:= lacI | cI | ... | etc.'''\n",
      "def interactor(tokens):\n",
      "    #print \"interactor(tokens): tokens: \", tokens\n",
      "    \"returns an interactor\"\n",
      "    return tokens"
     ],
     "language": "python",
     "metadata": {},
     "outputs": [],
     "prompt_number": 1447
    },
    {
     "cell_type": "code",
     "collapsed": false,
     "input": [
      "'''>'''\n",
      "def gOutput(tokens1, tokens2):\n",
      "    toBeReturned = []\n",
      "    for token1 in tokens1:\n",
      "        for token2 in tokens2: \n",
      "            toBeReturned.append( (token1, token2) )\n",
      "            \"toBeReturned.append(('[' + token1 + '] ---> [' + token2 + ']'))\"\n",
      "    return toBeReturned"
     ],
     "language": "python",
     "metadata": {},
     "outputs": [],
     "prompt_number": 1448
    },
    {
     "cell_type": "code",
     "collapsed": false,
     "input": [
      "'''Or'''\n",
      "def gOr(tokens1, tokens2):\n",
      "    return tokens1 + tokens2"
     ],
     "language": "python",
     "metadata": {},
     "outputs": [],
     "prompt_number": 1449
    },
    {
     "cell_type": "code",
     "collapsed": false,
     "input": [
      "'''And'''\n",
      "def gAnd(tokens1, tokens2):\n",
      "    toBeReturned = []\n",
      "    for token1 in tokens1:\n",
      "        for token2 in tokens2:\n",
      "            toBeReturned.append(token1 + (\" and \" + token2))\n",
      "    return toBeReturned"
     ],
     "language": "python",
     "metadata": {},
     "outputs": [],
<<<<<<< HEAD
     "prompt_number": 1450
=======
     "prompt_number": 78
>>>>>>> e0a2b553c068fb5e262075272829382369c61526
    },
    {
     "cell_type": "code",
     "collapsed": false,
     "input": [
      "def uniquelyMerge(mainList, mergingList):\n",
      "    uniquelyMergedList = mainList\n",
      "    for e in mergingList:\n",
      "        if e not in mainList:\n",
      "            uniquelyMergedList.append(e)\n",
      "    return uniquelyMergedList"
     ],
     "language": "python",
     "metadata": {},
     "outputs": [],
<<<<<<< HEAD
     "prompt_number": 1451
=======
     "prompt_number": 79
>>>>>>> e0a2b553c068fb5e262075272829382369c61526
    },
    {
     "cell_type": "code",
     "collapsed": false,
     "input": [
      "def getPath(inputTransitionDictionary, outputTransitionDictionary, startSpeciesList, endSpecies):    \n",
      "    pathQueue = [ ([],startSpeciesList) ]    \n",
      "    finalSpeciesPathList = []\n",
      "    finalTransitionPathList = []\n",
      "    while pathQueue != []:\n",
      "        pathQueue, finalSpeciesPathList, finalTransitionPathList = traverse(inputTransitionDictionary,\n",
      "                                                                            outputTransitionDictionary,\n",
      "                                                                            startSpeciesList,\n",
      "                                                                            endSpecies,\n",
      "                                                                            pathQueue,\n",
      "                                                                            finalSpeciesPathList,\n",
      "                                                                            finalTransitionPathList)\n",
      "    return finalSpeciesPathList, finalTransitionPathList"
     ],
     "language": "python",
     "metadata": {},
     "outputs": [],
<<<<<<< HEAD
     "prompt_number": 1452
=======
     "prompt_number": 80
>>>>>>> e0a2b553c068fb5e262075272829382369c61526
    },
    {
     "cell_type": "code",
     "collapsed": false,
     "input": [
      "def traverse(inputTransitionDictionary,\n",
      "             outputTransitionDictionary,\n",
      "             startSpeciesList,\n",
      "             endSpecies,\n",
      "             pathQueue,\n",
      "             finalSpeciesPathList, \n",
      "             finalTransitionPathList):\n",
      "    (visitedTransitionList, visitedSpeciesList) = pathQueue.pop(0)\n",
      "    AStartSpeciesList = list(startSpeciesList)\n",
      "    \n",
      "    # Output of visited transitions becomes new input\n",
      "    for aVisitedTransition in visitedTransitionList:\n",
      "        outputSpecies = outputTransitionDictionary[aVisitedTransition]\n",
      "        AStartSpeciesList = uniquelyMerge(AStartSpeciesList, outputSpecies)\n",
      "        \n",
      "    # Check transitions that have not been checked\n",
      "    for aTransition in set(inputTransitionDictionary.keys()) - set(visitedTransitionList):\n",
      "        AVisitedTransitionList = list(visitedTransitionList)\n",
      "        AVisitedSpeciesList = list(visitedSpeciesList)\n",
      "        \n",
      "        # If input of an unchecked transition matches input species\n",
      "        if inputTransitionDictionary[aTransition].issubset( set(AStartSpeciesList) ) == True:\n",
      "\n",
      "            # Include this transition in current transition path list\n",
      "            #aTransitionPathList = []\n",
      "            AVisitedTransitionList = AVisitedTransitionList + [aTransition]\n",
      "                  \n",
      "            # Include unique species of this transition in current species path list\n",
      "            #aSpeciesPathList = []\n",
      "            AVisitedSpeciesList = uniquelyMerge(AVisitedSpeciesList, outputTransitionDictionary[aTransition])\n",
      "\n",
      "            # If end speices is found, return species path and transition path\n",
      "            if endSpecies in AVisitedSpeciesList:\n",
      "                finalTransitionPathList.append(AVisitedTransitionList)\n",
      "                finalSpeciesPathList.append(AVisitedSpeciesList)\n",
      "                \n",
      "            # If end species is not found, add species path and transition path to path queue\n",
      "            else:\n",
      "                pathQueue.append( (AVisitedTransitionList,AVisitedSpeciesList) )\n",
      "    return pathQueue, finalSpeciesPathList, finalTransitionPathList"
     ],
     "language": "python",
     "metadata": {},
     "outputs": [],
<<<<<<< HEAD
     "prompt_number": 1453
    },
    {
     "cell_type": "code",
     "collapsed": false,
     "input": [
      "open(\"SBiDer.db\")\n",
      "inputTransitionDB, outputTransitionDB = to_network()\n"
     ],
     "language": "python",
     "metadata": {},
     "outputs": [],
     "prompt_number": 1454
    },
    {
     "cell_type": "code",
     "collapsed": false,
     "input": [
      "inputTransitionHard = {'t0':set(['A']),\n",
      "                       't1':set(['B']),\n",
      "                       't2':set(['C']),\n",
      "                       't3':set(['D'])}\n",
      "outputTransitionHard = {'t0':set(['B']),\n",
      "                        't1':set(['C']),\n",
      "                        't2':set(['D']),\n",
      "                        't3':set(['X'])}"
     ],
     "language": "python",
     "metadata": {},
     "outputs": [],
     "prompt_number": 1455
    },
    {
     "cell_type": "code",
     "collapsed": false,
     "input": [
      "inputTransition = inputTransitionHard\n",
      "outputTransition = outputTransitionHard"
     ],
     "language": "python",
     "metadata": {},
     "outputs": [],
     "prompt_number": 1456
=======
     "prompt_number": 81
>>>>>>> e0a2b553c068fb5e262075272829382369c61526
    },
    {
     "cell_type": "code",
     "collapsed": false,
     "input": [
<<<<<<< HEAD
      "print \"\\ninput transition:\"\n",
      "print inputTransition\n",
      "\n",
      "print \"\\noutput transition:\"\n",
      "print outputTransition\n",
=======
      "'''\n",
      "open(\"sbider.db\")\n",
      "inputTransition, outputTransition = to_network()\n",
      "'''\n",
      "\n",
      "inputTransition = {'t0': set(['A']),\n",
      "                   't1': set(['B']),\n",
      "                   't2': set(['C']),\n",
      "                   't3': set(['D'])}\n",
      "\n",
      "outputTransition = {'t0':set(['B']),\n",
      "                    't1':set(['C'])\n",
      "                    't2':set(['D']),\n",
      "                    't3':set(['X'])}\n",
      "\n",
      "\n",
>>>>>>> e0a2b553c068fb5e262075272829382369c61526
      "\n",
      "print \"\\ninput transition:\"\n",
      "for row in inputTransition.items():\n",
      "    print row\n",
      "\n",
      "print \"\\noutput transition:\"\n",
      "for row in outputTransition.items():\n",
<<<<<<< HEAD
      "    print row"
=======
      "    print row\n",
      "\n",
      "print inputTransition\n",
      "print outputTransition\n",
      "\n",
      "user_input = \"A > X\"\n",
      "logics = parseInputLogic(user_input)\n",
      "for logic in logics:\n",
      "    print \"\\n\\n\\nFinal Path: \\n\", getPath(inputTransition, outputTransition, logic[0], logic[1])"
>>>>>>> e0a2b553c068fb5e262075272829382369c61526
     ],
     "language": "python",
     "metadata": {},
     "outputs": [
      {
       "output_type": "stream",
       "stream": "stdout",
       "text": [
        "\n",
        "input transition:\n",
        "{'t2': set(['C']), 't3': set(['D']), 't0': set(['A']), 't1': set(['B'])}\n",
        "\n",
        "output transition:\n",
        "{'t2': set(['D']), 't3': set(['X']), 't0': set(['B']), 't1': set(['C'])}\n",
        "\n",
        "input transition:\n",
        "('t2', set(['C']))\n",
        "('t3', set(['D']))\n",
        "('t0', set(['A']))\n",
        "('t1', set(['B']))\n",
        "\n",
        "output transition:\n",
        "('t2', set(['D']))\n",
        "('t3', set(['X']))\n",
        "('t0', set(['B']))\n",
        "('t1', set(['C']))\n"
       ]
      }
     ],
     "prompt_number": 1457
    },
    {
     "cell_type": "code",
     "collapsed": false,
     "input": [
      "user_input = \"A > X\"\n",
      "logics = parseInputLogic(user_input)\n",
      "for logic in logics:\n",
      "    print \"\\nFinal Path: \\n\", getPath(inputTransition, outputTransition, [logic[0]], logic[1])"
     ],
     "language": "python",
     "metadata": {},
     "outputs": [
      {
       "output_type": "stream",
       "stream": "stdout",
       "text": [
        "\n",
        "Final Path: \n",
<<<<<<< HEAD
        "([['A', 'B', 'C', 'D', 'X']], [['t0', 't1', 't2', 't3']])\n"
       ]
      }
     ],
     "prompt_number": 1458
=======
        "[([], ['na'])]\n",
        "[([], ['na'])]\n",
        "[(['3'], ['na', 'araC'])]\n",
        "([], [])\n"
       ]
      }
     ],
     "prompt_number": 82
>>>>>>> e0a2b553c068fb5e262075272829382369c61526
    }
   ],
   "metadata": {}
  }
 ]
}