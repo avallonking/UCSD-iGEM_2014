{
 "metadata": {
  "name": "",
  "signature": "sha256:352bdfe6d41b0f78346652c7f07826e2beac8a3a48797c1f3685bf021e3fd80b"
 },
 "nbformat": 3,
 "nbformat_minor": 0,
 "worksheets": [
  {
   "cells": [
    {
     "cell_type": "code",
     "collapsed": false,
     "input": [],
     "language": "python",
     "metadata": {},
     "outputs": []
    }
   ],
   "metadata": {}
  }
 ]
}