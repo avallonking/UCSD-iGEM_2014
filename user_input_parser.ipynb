{
 "metadata": {
  "name": "",
  "signature": "sha256:88f13bf60c47d7cdf92295a50a8b073969c0cac6a4675af8650b68fa6364c7cd"
 },
 "nbformat": 3,
 "nbformat_minor": 0,
 "worksheets": [
  {
   "cells": [
    {
     "cell_type": "code",
     "collapsed": false,
     "input": [
      "import sys\n",
      "print \"User Input Syntax Analyzer and Semantic Evaluator\""
     ],
     "language": "python",
     "metadata": {},
     "outputs": [
      {
       "output_type": "stream",
       "stream": "stdout",
       "text": [
        "User Input Syntax Analyzer and Semantic Evaluator\n"
       ]
      }
     ],
     "prompt_number": 1137
    },
    {
     "cell_type": "code",
     "collapsed": false,
     "input": [
      "def rindex(sequence, item):\n",
      "    for i, e in enumerate(reversed(sequence)):\n",
      "        if item == e:\n",
      "            return len(seq) - 1 - i\n",
      "    else:\n",
      "            raise ValueError(\"rindex(sequence, item): item not in sequence\")"
     ],
     "language": "python",
     "metadata": {},
     "outputs": [],
     "prompt_number": 1138
    },
    {
     "cell_type": "code",
     "collapsed": false,
     "input": [
      "'user_input_0 = sys.argv'\n",
      "user_input_1 = \"A > X\"\n",
      "user_input_2 = \"A or B > X\"\n",
      "user_input_3 = \"A and B > X\"\n",
      "user_input_4 = \"( A and B ) or C > X\"\n",
      "user_input_5 = \"A and ( B or C ) > X\"\n",
      "user_input_6 = \"A and B and C > X\"\n",
      "user_input_7 = \"( A ) > X\"\n",
      "user_input_8 = \"A or B or C > X\"\n",
      "user_input_9 = \"A or B or C > X\""
     ],
     "language": "python",
     "metadata": {},
     "outputs": [],
     "prompt_number": 1139
    },
    {
     "cell_type": "code",
     "collapsed": false,
     "input": [
      "for i in range(1, 10):\n",
      "    exec(\"toks%d = user_input_%d.split()\" % (i, i))"
     ],
     "language": "python",
     "metadata": {},
     "outputs": [],
     "prompt_number": 1140
    },
    {
     "cell_type": "code",
     "collapsed": false,
     "input": [
      "'''Class: UISA (User Input Syntax Analyzer)'''\n",
      "class UISA:\n",
      "    \n",
      "    '''UISA constructor'''\n",
      "    def __init__(self, tokens):\n",
      "        self.tokens = tokens\n",
      "        print \"A UISA is initialied with tokens:   \", tokens\n",
      "        print \"Recursion begins: \\n\\n\"\n",
      "        self.g0(self.tokens)\n",
      "    \n",
      "    \n",
      "    \n",
      "    '''g0:= g2 or g0 | g1'''    \n",
      "    def g0(self, tks):\n",
      "        print \"g0 - tokens:   \", tks\n",
      "        if len(tks) > 1 and tks[1] == \"or\":\n",
      "            'g2 or g0'\n",
      "            print \"! g0 detected 'or'\"\n",
      "            or_dic = self.split_by_logic(tks, \"or\")\n",
      "            gor = GOr(self.g2(or_dic.get(\"before\")), self.g0(or_dic.get(\"after\")))\n",
      "        else:\n",
      "            'g1'\n",
      "            return self.g1(tks)\n",
      "    \n",
      "    \n",
      "    \n",
      "    '''g1:= g2 and g0 | g2'''\n",
      "    def g1(self, tks):\n",
      "        print \"g1 - tokens:   \", tks\n",
      "        if len(tks) > 1 and tks[1] == \"and\":\n",
      "            'g2 and g0'\n",
      "            print \"! g1 detected 'and'\"\n",
      "            and_dic = self.split_by_logic(tks, \"and\")\n",
      "            gand = GAnd(and_dic.get(\"before\"), and_dic.get(\"after\"))\n",
      "            gand = GAnd(self.g2(and_dic.get(\"before\")), self.g0(and_dic.get(\"after\")))\n",
      "        else:\n",
      "            'g2'\n",
      "            return self.g2(tks)\n",
      "    \n",
      "    \n",
      "    \n",
      "    '''2:=  (g0) | interactor''' \n",
      "    def g2(self, tks):\n",
      "        print \"g2 - tokens:   \", tks\n",
      "        if tks[0] == \"(\":\n",
      "            '(g0)'\n",
      "            print \"! g2 detected '('\"\n",
      "            tks.pop(0)\n",
      "            tks.remove(\")\")\n",
      "            return self.g0(tks)\n",
      "        else:\n",
      "            'interactor'\n",
      "            return self.interactor(tks)\n",
      "    \n",
      "    \n",
      "    \n",
      "    '''interactor : = lacI | cI | ... | ... | etc.'''\n",
      "    def interactor(self, tks):\n",
      "        print \"interactor - tokens:   \", tks\n",
      "        return \"INTERACTOR\"\n",
      "    \n",
      "    \n",
      "    \n",
      "    def split_by_logic(self, tokens, logic):\n",
      "        logic_index = tokens.index(logic)\n",
      "        tokens_before_logic = tokens[:logic_index]\n",
      "        tokens_after_logic = tokens[logic_index + 1:]\n",
      "        print \"before split_by_logic:   \", tokens_before_logic\n",
      "        print \"after split_by_logic:   \", tokens_after_logic\n",
      "        return {'before': tokens_before_logic, 'after': tokens_after_logic}"
     ],
     "language": "python",
     "metadata": {},
     "outputs": [],
     "prompt_number": 1141
    },
    {
     "cell_type": "code",
     "collapsed": false,
     "input": [
      "'''Class: GOr (Grammar Or)'''\n",
      "class GOr:\n",
      "    def __init__(self, tokens_before_logic, tokens_after_logic):\n",
      "        self.tokens_before_logic = tokens_before_logic\n",
      "        self.tokens_after_logic = tokens_after_logic\n",
      "        print \"Gor - tokens_before_logic:   \", tokens_before_logic\n",
      "        print \"Gor - tokens_after_logic:   \", tokens_after_logic"
     ],
     "language": "python",
     "metadata": {},
     "outputs": [],
     "prompt_number": 1142
    },
    {
     "cell_type": "code",
     "collapsed": false,
     "input": [
      "'''Class: Gand (Grammar And)'''\n",
      "class GAnd:\n",
      "    def __init__(self, tokens_before_logic, tokens_after_logic):\n",
      "        self.tokens_before_logic = tokens_before_logic\n",
      "        self.tokens_after_logic = tokens_after_logic\n",
      "        print \"Gand - tokens_before_logic:   \", tokens_before_logic\n",
      "        print \"Gand - tokens_after_logic:   \", tokens_after_logic"
     ],
     "language": "python",
     "metadata": {},
     "outputs": [],
     "prompt_number": 1143
    },
    {
     "cell_type": "code",
     "collapsed": false,
     "input": [
      "def main(user_input):\n",
      "    suffix = user_input[user_input.index(\">\")::1]\n",
      "    tokens = user_input[:user_input.index(\">\"):1]\n",
      "    uisa = UISA(tokens)"
     ],
     "language": "python",
     "metadata": {},
     "outputs": [],
     "prompt_number": 1144
    },
    {
     "cell_type": "code",
     "collapsed": false,
     "input": [
      "main(toks1)"
     ],
     "language": "python",
     "metadata": {},
     "outputs": [
      {
       "output_type": "stream",
       "stream": "stdout",
       "text": [
        "A UISA is initialied with tokens:    ['A']\n",
        "Recursion begins: \n",
        "\n",
        "\n",
        "g0 - tokens:    ['A']\n",
        "g1 - tokens:    ['A']\n",
        "g2 - tokens:    ['A']\n",
        "interactor - tokens:    ['A']\n"
       ]
      }
     ],
     "prompt_number": 1145
    }
   ],
   "metadata": {}
  }
 ]
}