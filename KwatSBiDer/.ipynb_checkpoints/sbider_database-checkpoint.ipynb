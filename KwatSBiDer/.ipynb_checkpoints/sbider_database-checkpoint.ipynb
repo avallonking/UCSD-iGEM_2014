{
 "metadata": {
  "name": "",
  "signature": "sha256:b5067afdac0de280065981f5fd449d57cbf9ca0df1842e8371de792705327ff9"
 },
 "nbformat": 3,
 "nbformat_minor": 0,
 "worksheets": []
}