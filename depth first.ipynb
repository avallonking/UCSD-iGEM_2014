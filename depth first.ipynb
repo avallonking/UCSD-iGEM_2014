{
 "metadata": {
  "name": "",
  "signature": "sha256:3a629147f53c65b52d1384027a7468123d3f6f3938bc6bcc93ce506ed5fdeaa1"
 },
 "nbformat": 3,
 "nbformat_minor": 0,
 "worksheets": [
  {
   "cells": [
    {
     "cell_type": "code",
     "collapsed": false,
     "input": [
      "graph = {'A': set(['B', 'C']),\n",
      "         'B': set(['A','D']),\n",
      "         'C': set(['F']),\n",
      "         'D': set(['E']),\n",
      "         'E': set(['F','L']),\n",
      "         'F': set(['G']),\n",
      "         'G': set(['H','I','J']),\n",
      "         'H': set(['J']),\n",
      "         'I': set(['H']),\n",
      "         'J': set(['M']),\n",
      "         'K': set(['G','H']),\n",
      "         'L': set(['K','O']),\n",
      "         'M': set(['G', 'N']),\n",
      "         'N': set(['L']),\n",
      "         'O': set(['P']),\n",
      "         'P': set(['O','Q']),\n",
      "         'Q': set(['R']),\n",
      "         'R': set(['S']),\n",
      "         'S': set(['E','T']),\n",
      "         'T': set(['U']),\n",
      "         'U': set(['V']),\n",
      "         'V': set(['S','W','X']),\n",
      "         'W': set(['B']),\n",
      "         'X': set(['R','Y']),\n",
      "         'Y': set(['Z']),\n",
      "         'Z': set([])}\n",
      "\n",
      "def dfs_paths(graph, start, goal):\n",
      "    stack = [(start, [start])]\n",
      "    while stack:\n",
      "        (vertex, path) = stack.pop()\n",
      "        for next in graph[vertex] - set(path):\n",
      "            if next == goal:\n",
      "                yield path + [next]\n",
      "            else:\n",
      "                stack.append((next, path + [next]))\n",
      "\n",
      "list(dfs_paths(graph, 'A', 'O')) "
     ],
     "language": "python",
     "metadata": {},
     "outputs": [
      {
       "metadata": {},
       "output_type": "pyout",
       "prompt_number": 7,
       "text": [
        "[['A', 'B', 'D', 'E', 'F', 'G', 'J', 'M', 'N', 'L', 'O'],\n",
        " ['A', 'B', 'D', 'E', 'F', 'G', 'H', 'J', 'M', 'N', 'L', 'O'],\n",
        " ['A', 'B', 'D', 'E', 'F', 'G', 'I', 'H', 'J', 'M', 'N', 'L', 'O'],\n",
        " ['A', 'B', 'D', 'E', 'L', 'O'],\n",
        " ['A', 'C', 'F', 'G', 'J', 'M', 'N', 'L', 'O'],\n",
        " ['A', 'C', 'F', 'G', 'H', 'J', 'M', 'N', 'L', 'O'],\n",
        " ['A', 'C', 'F', 'G', 'I', 'H', 'J', 'M', 'N', 'L', 'O']]"
       ]
      }
     ],
     "prompt_number": 7
    },
    {
     "cell_type": "code",
     "collapsed": false,
     "input": [],
     "language": "python",
     "metadata": {},
     "outputs": []
    }
   ],
   "metadata": {}
  }
 ]
}