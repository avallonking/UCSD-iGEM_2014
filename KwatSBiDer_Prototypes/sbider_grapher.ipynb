{
 "metadata": {
  "name": "",
  "signature": "sha256:2bd3da3be49eea977218431fb7f62012e11125c4beb2cebb87ac4751a13dd216"
 },
 "nbformat": 3,
 "nbformat_minor": 0,
 "worksheets": [
  {
   "cells": [
    {
     "cell_type": "code",
     "collapsed": false,
     "input": [
      "def draw_plot(G):\n",
      "    \"\"\"\n",
      "    draw and plot a graph\n",
      "    \n",
      "    @param - graph: graph to be drawn and plotted\n",
      "    @param - start: list of input species\n",
      "    @param - end: list of output species\n",
      "    \"\"\"\n",
      "    nx.draw(G,\n",
      "            node_size=400,\n",
      "            node_color='#A0CBE2',\n",
      "            font_size=10,\n",
      "            font_color='blue',\n",
      "            width=1,\n",
      "            edge_color='blue',\n",
      "            style='dotted',\n",
      "            arrows=False)\n",
      "    \n",
      "    plt.show()\n",
      "    \n",
      "    #plt.savefig() #.png"
     ],
     "language": "python",
     "metadata": {},
     "outputs": [],
     "prompt_number": 2
    },
    {
     "cell_type": "code",
     "collapsed": false,
     "input": [
      "def expand_graph_with_path_list(graph, path_list):\n",
      "    '''expand networkx graph\n",
      "    \n",
      "    @param - graph: graph to be extended\n",
      "    @param - path_list: list representation of path'''\n",
      "    \n",
      "    graph.add_path(path_list)"
     ],
     "language": "python",
     "metadata": {},
     "outputs": [],
     "prompt_number": 3
    },
    {
     "cell_type": "code",
     "collapsed": false,
     "input": [
      "def make_graph_from_path_list(path_list):\n",
      "    '''make networkx graph\n",
      "    \n",
      "    @param - path_list: list representation of path\n",
      "    @return - networkx directed graph'''\n",
      "    \n",
      "    graph = nx.DiGraph()\n",
      "    \n",
      "    if len(path_list) < 2:\n",
      "        graph.add_nodes_from(path_list)\n",
      "    else:\n",
      "        graph.add_path(path_list)\n",
      "        \n",
      "    return graph"
     ],
     "language": "python",
     "metadata": {},
     "outputs": [],
     "prompt_number": 4
    },
    {
     "cell_type": "code",
     "collapsed": false,
     "input": [
      "def make_graph_from_path_dictionaries(in_path_dic_in, out_path_dic):\n",
      "    '''make networkx graph\n",
      "    \n",
      "    @param - in_path_dic_in: dictionary representation of input path\n",
      "    @param - out_path_dic: dictionary representation of output path\n",
      "    @return - networkx directed graph'''\n",
      "    \n",
      "    graph = nx.DiGraph()\n",
      "            \n",
      "    for plasmid, input_species_list in in_path_dic_in.items():\n",
      "        for species in input_species_list:\n",
      "            graph.add_edge(species, plasmid)\n",
      "    \n",
      "    for plasmid, output_species_list in out_path_dic.items():\n",
      "        for species in output_species_list:\n",
      "                graph.add_edge(plasmid, species)\n",
      "                \n",
      "    return graph"
     ],
     "language": "python",
     "metadata": {},
     "outputs": [],
     "prompt_number": 5
    }
   ],
   "metadata": {}
  }
 ]
}